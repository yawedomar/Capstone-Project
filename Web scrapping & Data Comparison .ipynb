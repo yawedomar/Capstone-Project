{
 "cells": [
  {
   "cell_type": "markdown",
   "id": "70f0d74b",
   "metadata": {},
   "source": [
    "# Capstone Project - \n",
    "## Web scrapping & Visualisation"
   ]
  },
  {
   "cell_type": "markdown",
   "id": "0f7dd1b3",
   "metadata": {},
   "source": [
    "Objectives: Stakeholders have asked to us to provide some insights on their dataframe and publish these insights as either graphs or tables."
   ]
  },
  {
   "cell_type": "markdown",
   "id": "b9ef37b1",
   "metadata": {},
   "source": [
    "### Project Requirments:\n",
    "\n",
    "5. We need to find out by region if our CPA – cost per acquisition is higher or lower than the average as per the research found on https://mystaticwebsite-3.s3.amazonaws.com/index.html"
   ]
  },
  {
   "cell_type": "markdown",
   "id": "00b73810",
   "metadata": {},
   "source": [
    "### Last Updates"
   ]
  },
  {
   "cell_type": "code",
   "execution_count": 1,
   "id": "f351d309",
   "metadata": {},
   "outputs": [
    {
     "name": "stdout",
     "output_type": "stream",
     "text": [
      "Last Updated: 08/11/2022 19:42:27\n"
     ]
    }
   ],
   "source": [
    "from datetime import datetime, timedelta\n",
    "\n",
    "print(f\"Last Updated: {datetime.now().strftime('%d/%m/%Y %H:%M:%S')}\")"
   ]
  },
  {
   "cell_type": "markdown",
   "id": "9ce0f6b8",
   "metadata": {},
   "source": [
    "## Importing Packages"
   ]
  },
  {
   "cell_type": "code",
   "execution_count": 2,
   "id": "1fac59f7",
   "metadata": {},
   "outputs": [],
   "source": [
    "import requests\n",
    "import pandas as pd\n",
    "from bs4 import BeautifulSoup\n",
    "import numpy as np\n",
    "import os\n",
    "import matplotlib.pyplot as plt"
   ]
  },
  {
   "cell_type": "code",
   "execution_count": 3,
   "id": "ab98d608",
   "metadata": {},
   "outputs": [],
   "source": [
    "#Imported the clean test_data\n",
    "df = pd.read_csv('C:/Users/YasminaAwedOmar/Documents/Capstone Project/test_data_clean.csv')\n",
    "#Formating \n",
    "pd.options.display.float_format = '{:,.0f}'.format"
   ]
  },
  {
   "cell_type": "markdown",
   "id": "5777eaa9",
   "metadata": {},
   "source": [
    "### Cleaning the test_data"
   ]
  },
  {
   "cell_type": "code",
   "execution_count": 4,
   "id": "2f875df6",
   "metadata": {},
   "outputs": [],
   "source": [
    "#remove 'UK' infront of the region names to help with merging\n",
    "df['uk_region'] = df['uk_region'].str.replace(\"UK\",'').astype(str)"
   ]
  },
  {
   "cell_type": "code",
   "execution_count": 5,
   "id": "ad6cd0f2",
   "metadata": {},
   "outputs": [
    {
     "data": {
      "text/plain": [
       "uk_region\n",
       " North        4\n",
       " North East   3\n",
       " South East   3\n",
       "Name: cpa, dtype: float64"
      ]
     },
     "execution_count": 5,
     "metadata": {},
     "output_type": "execute_result"
    }
   ],
   "source": [
    "#Grouped the data in a series \n",
    "df_group = df.groupby(['uk_region'])['cpa'].mean()\n",
    "df_group"
   ]
  },
  {
   "cell_type": "code",
   "execution_count": 6,
   "id": "80e11896",
   "metadata": {
    "scrolled": false
   },
   "outputs": [
    {
     "data": {
      "text/html": [
       "<div>\n",
       "<style scoped>\n",
       "    .dataframe tbody tr th:only-of-type {\n",
       "        vertical-align: middle;\n",
       "    }\n",
       "\n",
       "    .dataframe tbody tr th {\n",
       "        vertical-align: top;\n",
       "    }\n",
       "\n",
       "    .dataframe thead th {\n",
       "        text-align: right;\n",
       "    }\n",
       "</style>\n",
       "<table border=\"1\" class=\"dataframe\">\n",
       "  <thead>\n",
       "    <tr style=\"text-align: right;\">\n",
       "      <th></th>\n",
       "      <th>uk_region</th>\n",
       "      <th>cpa</th>\n",
       "    </tr>\n",
       "  </thead>\n",
       "  <tbody>\n",
       "    <tr>\n",
       "      <th>0</th>\n",
       "      <td>North</td>\n",
       "      <td>4</td>\n",
       "    </tr>\n",
       "    <tr>\n",
       "      <th>1</th>\n",
       "      <td>North East</td>\n",
       "      <td>3</td>\n",
       "    </tr>\n",
       "    <tr>\n",
       "      <th>2</th>\n",
       "      <td>South East</td>\n",
       "      <td>3</td>\n",
       "    </tr>\n",
       "  </tbody>\n",
       "</table>\n",
       "</div>"
      ],
      "text/plain": [
       "     uk_region  cpa\n",
       "0        North    4\n",
       "1   North East    3\n",
       "2   South East    3"
      ]
     },
     "execution_count": 6,
     "metadata": {},
     "output_type": "execute_result"
    }
   ],
   "source": [
    "#Grouped in dataframe\n",
    "df_group = df.groupby(['uk_region'],as_index=False)['cpa'].mean()\n",
    "df_group"
   ]
  },
  {
   "cell_type": "markdown",
   "id": "b5187d70",
   "metadata": {},
   "source": [
    "## WebScrapping"
   ]
  },
  {
   "cell_type": "code",
   "execution_count": 7,
   "id": "0cd6a179",
   "metadata": {},
   "outputs": [
    {
     "name": "stdout",
     "output_type": "stream",
     "text": [
      "<HTML>\n",
      "<HEAD>\n",
      "</HEAD>\n",
      "<BODY>\n",
      "<H1>Marketing Data October 2021</H1>\n",
      "  \n",
      "  <table style=\"width: 100%\">\n",
      "    <tr style=\"font-weight: bold\">\n",
      "      <th style=\"width: 50%\">Region</td>\n",
      "      <th style=\"\">Average CPA by Region</td>\n",
      "    </tr>\n",
      "    <tr>\n",
      "      <td class=\"region\">South East</td>\n",
      "      <td id=\"south_east\">&pound;10.00</td>\n",
      "    </tr>\n",
      "   <tr>\n",
      "      <td class=\"region\">North East</td>\n",
      "      <td id=\"north_east\">&pound;10.00</td>\n",
      "    </tr>\n",
      "    <tr>\n",
      "      <td class=\"region\">North</td>\n",
      "      <td id=\"north\">&pound;8.00</td>\n",
      "    </tr>\n",
      "  \n",
      "  <tr>\n",
      "      <td class=\"region\">South</td>\n",
      "      <td id=\"south\">&pound;10.00</td>\n",
      "    </tr>\n",
      "  \n",
      "  \n",
      "  \n",
      "  \n",
      "  </table>\n",
      "</BODY>\n",
      "</HTML>\n",
      "\n"
     ]
    }
   ],
   "source": [
    "#Create an URL object\n",
    "URL = \"https://mystaticwebsite-3.s3.amazonaws.com/index.html\"\n",
    "\n",
    "#Create object page\n",
    "page = requests.get(URL)\n",
    "print(page.text)"
   ]
  },
  {
   "cell_type": "code",
   "execution_count": 8,
   "id": "bac9de08",
   "metadata": {
    "scrolled": true
   },
   "outputs": [
    {
     "name": "stdout",
     "output_type": "stream",
     "text": [
      "<td id=\"south_east\">\n",
      " £10.00\n",
      "</td>\n",
      "\n",
      "<td id=\"north_east\">\n",
      " £10.00\n",
      "</td>\n",
      "\n",
      "<td id=\"north\">\n",
      " £8.00\n",
      "</td>\n",
      "\n",
      "<td id=\"south\">\n",
      " £10.00\n",
      "</td>\n",
      "\n"
     ]
    }
   ],
   "source": [
    "#Obtain the relavant information from the website\n",
    "soup = BeautifulSoup(page.content, \"html.parser\")  \n",
    "result1  = soup.find(id=\"south_east\")\n",
    "result2 = soup.find(id=\"north_east\")\n",
    "result3 = soup.find(id=\"north\")\n",
    "result4 = soup.find(id=\"south\")\n",
    "\n",
    "print(result1.prettify())\n",
    "print(result2.prettify())\n",
    "print(result3.prettify())\n",
    "print(result4.prettify())"
   ]
  },
  {
   "cell_type": "code",
   "execution_count": 9,
   "id": "01ee9327",
   "metadata": {
    "scrolled": false
   },
   "outputs": [
    {
     "data": {
      "text/html": [
       "<div>\n",
       "<style scoped>\n",
       "    .dataframe tbody tr th:only-of-type {\n",
       "        vertical-align: middle;\n",
       "    }\n",
       "\n",
       "    .dataframe tbody tr th {\n",
       "        vertical-align: top;\n",
       "    }\n",
       "\n",
       "    .dataframe thead th {\n",
       "        text-align: right;\n",
       "    }\n",
       "</style>\n",
       "<table border=\"1\" class=\"dataframe\">\n",
       "  <thead>\n",
       "    <tr style=\"text-align: right;\">\n",
       "      <th></th>\n",
       "      <th>Region</th>\n",
       "      <th>Average CPA by Region</th>\n",
       "    </tr>\n",
       "  </thead>\n",
       "  <tbody>\n",
       "    <tr>\n",
       "      <th>0</th>\n",
       "      <td>South East</td>\n",
       "      <td>£10.00</td>\n",
       "    </tr>\n",
       "    <tr>\n",
       "      <th>1</th>\n",
       "      <td>North East</td>\n",
       "      <td>£10.00</td>\n",
       "    </tr>\n",
       "    <tr>\n",
       "      <th>2</th>\n",
       "      <td>North</td>\n",
       "      <td>£8.00</td>\n",
       "    </tr>\n",
       "    <tr>\n",
       "      <th>3</th>\n",
       "      <td>South</td>\n",
       "      <td>£10.00</td>\n",
       "    </tr>\n",
       "  </tbody>\n",
       "</table>\n",
       "</div>"
      ],
      "text/plain": [
       "       Region Average CPA by Region\n",
       "0  South East                £10.00\n",
       "1  North East                £10.00\n",
       "2       North                 £8.00\n",
       "3       South                £10.00"
      ]
     },
     "execution_count": 9,
     "metadata": {},
     "output_type": "execute_result"
    }
   ],
   "source": [
    "#Read HTML [marketing Data 2021] table\n",
    "table = soup.table\n",
    "df_market = pd.read_html(str(table))[0] #convert the soup to str first\n",
    "df_market"
   ]
  },
  {
   "cell_type": "markdown",
   "id": "e12d01a9",
   "metadata": {},
   "source": [
    "### Cleaning the Scraped Marketing Data"
   ]
  },
  {
   "cell_type": "code",
   "execution_count": 10,
   "id": "9ce4ceb6",
   "metadata": {},
   "outputs": [],
   "source": [
    "#remove the pound £ sign\n",
    "df_market['Average CPA by Region'] = df_market['Average CPA by Region'].str.replace(\"£\",'').astype(float)"
   ]
  },
  {
   "cell_type": "code",
   "execution_count": 11,
   "id": "f39739a3",
   "metadata": {
    "scrolled": false
   },
   "outputs": [],
   "source": [
    "#Changing the 'Region' column to 'uk_region'\n",
    "df_market = df_market.rename(columns={\"Region\":\"uk_region\"})"
   ]
  },
  {
   "cell_type": "code",
   "execution_count": 12,
   "id": "fa29d7d1",
   "metadata": {
    "scrolled": true
   },
   "outputs": [
    {
     "data": {
      "text/html": [
       "<div>\n",
       "<style scoped>\n",
       "    .dataframe tbody tr th:only-of-type {\n",
       "        vertical-align: middle;\n",
       "    }\n",
       "\n",
       "    .dataframe tbody tr th {\n",
       "        vertical-align: top;\n",
       "    }\n",
       "\n",
       "    .dataframe thead th {\n",
       "        text-align: right;\n",
       "    }\n",
       "</style>\n",
       "<table border=\"1\" class=\"dataframe\">\n",
       "  <thead>\n",
       "    <tr style=\"text-align: right;\">\n",
       "      <th></th>\n",
       "      <th>uk_region</th>\n",
       "      <th>Average CPA by Region</th>\n",
       "    </tr>\n",
       "  </thead>\n",
       "  <tbody>\n",
       "    <tr>\n",
       "      <th>0</th>\n",
       "      <td>South East</td>\n",
       "      <td>10</td>\n",
       "    </tr>\n",
       "    <tr>\n",
       "      <th>1</th>\n",
       "      <td>North East</td>\n",
       "      <td>10</td>\n",
       "    </tr>\n",
       "    <tr>\n",
       "      <th>2</th>\n",
       "      <td>North</td>\n",
       "      <td>8</td>\n",
       "    </tr>\n",
       "    <tr>\n",
       "      <th>3</th>\n",
       "      <td>South</td>\n",
       "      <td>10</td>\n",
       "    </tr>\n",
       "  </tbody>\n",
       "</table>\n",
       "</div>"
      ],
      "text/plain": [
       "    uk_region  Average CPA by Region\n",
       "0  South East                     10\n",
       "1  North East                     10\n",
       "2       North                      8\n",
       "3       South                     10"
      ]
     },
     "execution_count": 12,
     "metadata": {},
     "output_type": "execute_result"
    }
   ],
   "source": [
    "df_market"
   ]
  },
  {
   "cell_type": "code",
   "execution_count": 13,
   "id": "f4e73a31",
   "metadata": {},
   "outputs": [
    {
     "data": {
      "text/plain": [
       "dtype('float64')"
      ]
     },
     "execution_count": 13,
     "metadata": {},
     "output_type": "execute_result"
    }
   ],
   "source": [
    "#checking the datatype for the marketing data\n",
    "df_market['Average CPA by Region'].dtypes"
   ]
  },
  {
   "cell_type": "code",
   "execution_count": 14,
   "id": "88eb6426",
   "metadata": {
    "scrolled": true
   },
   "outputs": [
    {
     "data": {
      "text/plain": [
       "dtype('int64')"
      ]
     },
     "execution_count": 14,
     "metadata": {},
     "output_type": "execute_result"
    }
   ],
   "source": [
    "#checking the data type for the tes_data\n",
    "df['cpa'].dtypes"
   ]
  },
  {
   "cell_type": "code",
   "execution_count": 15,
   "id": "3c77a916",
   "metadata": {
    "scrolled": true
   },
   "outputs": [
    {
     "data": {
      "text/plain": [
       "0    10\n",
       "1    10\n",
       "2     8\n",
       "3    10\n",
       "Name: Average CPA by Region, dtype: int32"
      ]
     },
     "execution_count": 15,
     "metadata": {},
     "output_type": "execute_result"
    }
   ],
   "source": [
    "#changing marketing dataframe into int - helping with the merge\n",
    "df_market['Average CPA by Region'].astype(int)"
   ]
  },
  {
   "cell_type": "markdown",
   "id": "63e83605",
   "metadata": {},
   "source": [
    "#### Merging the dataframes"
   ]
  },
  {
   "cell_type": "code",
   "execution_count": 16,
   "id": "41aebaae",
   "metadata": {
    "scrolled": true
   },
   "outputs": [
    {
     "data": {
      "text/html": [
       "<div>\n",
       "<style scoped>\n",
       "    .dataframe tbody tr th:only-of-type {\n",
       "        vertical-align: middle;\n",
       "    }\n",
       "\n",
       "    .dataframe tbody tr th {\n",
       "        vertical-align: top;\n",
       "    }\n",
       "\n",
       "    .dataframe thead th {\n",
       "        text-align: right;\n",
       "    }\n",
       "</style>\n",
       "<table border=\"1\" class=\"dataframe\">\n",
       "  <thead>\n",
       "    <tr style=\"text-align: right;\">\n",
       "      <th></th>\n",
       "      <th>uk_region</th>\n",
       "      <th>Average CPA by Region</th>\n",
       "      <th>uk_region</th>\n",
       "      <th>cpa</th>\n",
       "    </tr>\n",
       "  </thead>\n",
       "  <tbody>\n",
       "    <tr>\n",
       "      <th>0</th>\n",
       "      <td>South East</td>\n",
       "      <td>10</td>\n",
       "      <td>North</td>\n",
       "      <td>4</td>\n",
       "    </tr>\n",
       "    <tr>\n",
       "      <th>1</th>\n",
       "      <td>North East</td>\n",
       "      <td>10</td>\n",
       "      <td>North East</td>\n",
       "      <td>3</td>\n",
       "    </tr>\n",
       "    <tr>\n",
       "      <th>2</th>\n",
       "      <td>North</td>\n",
       "      <td>8</td>\n",
       "      <td>South East</td>\n",
       "      <td>3</td>\n",
       "    </tr>\n",
       "    <tr>\n",
       "      <th>3</th>\n",
       "      <td>South</td>\n",
       "      <td>10</td>\n",
       "      <td>NaN</td>\n",
       "      <td>NaN</td>\n",
       "    </tr>\n",
       "  </tbody>\n",
       "</table>\n",
       "</div>"
      ],
      "text/plain": [
       "    uk_region  Average CPA by Region    uk_region  cpa\n",
       "0  South East                     10        North    4\n",
       "1  North East                     10   North East    3\n",
       "2       North                      8   South East    3\n",
       "3       South                     10          NaN  NaN"
      ]
     },
     "execution_count": 16,
     "metadata": {},
     "output_type": "execute_result"
    }
   ],
   "source": [
    "#Merging the test_data(shakeholders) with the market data\n",
    "df2=pd.concat([df_market, df_group],axis=1, join=\"outer\")\n",
    "df2"
   ]
  },
  {
   "cell_type": "markdown",
   "id": "7244354f",
   "metadata": {},
   "source": [
    "### 5. Stakeholders Data vs Marketing Data 2021"
   ]
  },
  {
   "cell_type": "code",
   "execution_count": 17,
   "id": "fe8adf57",
   "metadata": {},
   "outputs": [
    {
     "data": {
      "image/png": "[encoded data removed]",
      "text/plain": [
       "<Figure size 432x288 with 1 Axes>"
      ]
     },
     "metadata": {
      "needs_background": "light"
     },
     "output_type": "display_data"
    }
   ],
   "source": [
    "#Plotting the barchart \n",
    "df2.plot(kind='bar',width = 0.5, edgecolor='black' )\n",
    "\n",
    "#Setting the location and labels of the x-axis\n",
    "plt.xticks([0, 1, 2, 3], ['South East', 'North East', 'North', 'South'])  \n",
    "\n",
    "#Title for the barchart\n",
    "plt.title('Regional CPA Analysis', fontsize=16, weight = 'bold')\n",
    "           \n",
    "#Labelling the x, and y axix\n",
    "plt.ylabel('Average CPA', fontsize=14,weight = 'bold')\n",
    "plt.xlabel('Region', fontsize=14,weight = 'bold')\n",
    "\n",
    "#Changing the legend location\n",
    "plt.legend(loc='upper right', bbox_to_anchor=(1.5, 1))\n",
    "\n",
    "#saving the graph\n",
    "plt.savefig(r'C:/Users/YasminaAwedOmar/Documents/cpa_comparison.png', bbox_inches='tight', facecolor=(1,1,1))\n",
    "\n",
    "#Visualising the barchart\n",
    "plt.show()"
   ]
  },
  {
   "cell_type": "markdown",
   "id": "c41e5df9",
   "metadata": {},
   "source": [
    "#### Evaluation:\n",
    "\n",
    "From the barchart, we can see that the stakeholders cost per acquisition (CPA) average is substantially lower than the CPA average obtainted in the market data. "
   ]
  }
 ],
 "metadata": {
  "kernelspec": {
   "display_name": "Python 3 (ipykernel)",
   "language": "python",
   "name": "python3"
  },
  "language_info": {
   "codemirror_mode": {
    "name": "ipython",
    "version": 3
   },
   "file_extension": ".py",
   "mimetype": "text/x-python",
   "name": "python",
   "nbconvert_exporter": "python",
   "pygments_lexer": "ipython3",
   "version": "3.9.12"
  }
 },
 "nbformat": 4,
 "nbformat_minor": 5
}
